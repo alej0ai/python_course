{
 "cells": [
  {
   "cell_type": "markdown",
   "metadata": {},
   "source": [
    "# Files\n",
    "Dealing with txt, cvs, json files is key in python especially on data analysis where sometimes it is necessary it to read or write such files in order to import or export data.\n",
    "\n",
    "## TXT Files\n",
    "\n",
    "To create a simple text file is required to use the sentences \"with open\", \"write\" and \"w\" as parameter, the name of file will be followers.txt and will it be saved in the same folder of this notebook file,\n"
   ]
  },
  {
   "cell_type": "code",
   "execution_count": 1,
   "metadata": {},
   "outputs": [],
   "source": [
    "with open ('followers.txt',mode='w') as followers:\n",
    "    followers.write('@charlidamelio D’Amelio 108.1\\n')\n",
    "    followers.write('@addisonre Addison 76.4\\n')\n",
    "    followers.write('@zachking Zach 56.6\\n')\n",
    "    followers.write('@bellapoarch Bella 56.3\\n')"
   ]
  },
  {
   "cell_type": "markdown",
   "metadata": {},
   "source": [
    "Reading txt file just created,"
   ]
  },
  {
   "cell_type": "code",
   "execution_count": 1,
   "metadata": {},
   "outputs": [
    {
     "name": "stdout",
     "output_type": "stream",
     "text": [
      "Handle              Name       Followers\n",
      "@charlidamelio      D’Amelio       108.1\n",
      "@addisonre          Addison         76.4\n",
      "@zachking           Zach            56.6\n",
      "@bellapoarch        Bella           56.3\n"
     ]
    }
   ],
   "source": [
    "with open('followers.txt', mode ='r') as followers:\n",
    "    print(f'{\"Handle\":<20}{\"Name\":<10}{\"Followers\":>10}')  \n",
    "    for record in followers:\n",
    "        handle,name,followers = record.split()\n",
    "        print(f'{handle:<20}{name:<10}{followers:>10}')"
   ]
  },
  {
   "cell_type": "markdown",
   "metadata": {},
   "source": [
    "Modifying txt file into a new file,"
   ]
  },
  {
   "cell_type": "code",
   "execution_count": 4,
   "metadata": {},
   "outputs": [],
   "source": [
    "followers = open('followers.txt','r')\n",
    "temp = open('temp.txt','w')\n",
    "\n",
    "with followers, temp:\n",
    "    for record in followers:\n",
    "        handle, name, followers = record.split()\n",
    "        \n",
    "        if handle != \"@charlidamelio\":\n",
    "            temp.write(record)\n",
    "        else:\n",
    "            new_file = \" \".join([handle, \"Charley\",followers])\n",
    "            temp.write(new_file + '\\n')"
   ]
  }
 ],
 "metadata": {
  "kernelspec": {
   "display_name": "Python 3",
   "language": "python",
   "name": "python3"
  },
  "language_info": {
   "codemirror_mode": {
    "name": "ipython",
    "version": 3
   },
   "file_extension": ".py",
   "mimetype": "text/x-python",
   "name": "python",
   "nbconvert_exporter": "python",
   "pygments_lexer": "ipython3",
   "version": "3.12.6"
  }
 },
 "nbformat": 4,
 "nbformat_minor": 2
}
