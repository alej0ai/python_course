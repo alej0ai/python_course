{
 "cells": [
  {
   "cell_type": "markdown",
   "metadata": {},
   "source": [
    "# Files\n",
    "Dealing with txt, cvs, json files is key in python especially on data analysis where sometimes it is necessary it to read or write such files in order to import or export data.\n",
    "\n",
    "## TXT Files\n",
    "\n",
    "To create a simple text file is required to use the sentence \"with open\", \"write\" and \"w\" as parameter, the name of file will be followers.txt and will it be saved in the same folder of this notebook file,\n"
   ]
  },
  {
   "cell_type": "code",
   "execution_count": 1,
   "metadata": {},
   "outputs": [],
   "source": [
    "with open ('followers.txt',mode='w') as followers:\n",
    "    followers.write('@charlidamelio D’Amelio 108.1\\n')\n",
    "    followers.write('@addisonre Addison 76.4\\n')\n",
    "    followers.write('@zachking Zach 56.6\\n')\n",
    "    followers.write('@bellapoarch Bella 56.3\\n')"
   ]
  }
 ],
 "metadata": {
  "kernelspec": {
   "display_name": "Python 3",
   "language": "python",
   "name": "python3"
  },
  "language_info": {
   "codemirror_mode": {
    "name": "ipython",
    "version": 3
   },
   "file_extension": ".py",
   "mimetype": "text/x-python",
   "name": "python",
   "nbconvert_exporter": "python",
   "pygments_lexer": "ipython3",
   "version": "3.12.6"
  }
 },
 "nbformat": 4,
 "nbformat_minor": 2
}
