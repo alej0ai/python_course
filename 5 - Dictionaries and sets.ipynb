{
 "cells": [
  {
   "cell_type": "markdown",
   "metadata": {},
   "source": [
    "# Dictionaries and sets\n",
    "A dictionary is an unordered data collection stored in a key:value pairs, doesn't allow duplicates\n",
    "\n",
    "## Dictionaries\n",
    "Here's a dictoionary with names and their codes,"
   ]
  },
  {
   "cell_type": "code",
   "execution_count": 5,
   "metadata": {},
   "outputs": [
    {
     "data": {
      "text/plain": [
       "{'Lucy': 'lu', 'Daniel': 'dn', 'Albert': 'al', 'Romina': 'ro'}"
      ]
     },
     "execution_count": 5,
     "metadata": {},
     "output_type": "execute_result"
    }
   ],
   "source": [
    "names = {'Lucy':'lu','Daniel':'dn','Albert':'al','Romina':'ro'}  # name is the key value\n",
    "names"
   ]
  },
  {
   "cell_type": "markdown",
   "metadata": {},
   "source": [
    "Finding how many pairs are in 'names' dictonary,"
   ]
  },
  {
   "cell_type": "code",
   "execution_count": 2,
   "metadata": {},
   "outputs": [
    {
     "data": {
      "text/plain": [
       "4"
      ]
     },
     "execution_count": 2,
     "metadata": {},
     "output_type": "execute_result"
    }
   ],
   "source": [
    "len(names)"
   ]
  },
  {
   "cell_type": "markdown",
   "metadata": {},
   "source": [
    "Another dictionary with ages,"
   ]
  },
  {
   "cell_type": "code",
   "execution_count": 6,
   "metadata": {},
   "outputs": [
    {
     "data": {
      "text/plain": [
       "{'Lucy': 31, 'Daniel': 55, 'Albert': 29, 'Romina': 17}"
      ]
     },
     "execution_count": 6,
     "metadata": {},
     "output_type": "execute_result"
    }
   ],
   "source": [
    "ages = {'Lucy':31,'Daniel':55,'Albert':29,'Romina':17} # name is the key value\n",
    "ages"
   ]
  },
  {
   "cell_type": "markdown",
   "metadata": {},
   "source": [
    "Showing with print both pairs of dictionary,"
   ]
  },
  {
   "cell_type": "code",
   "execution_count": 4,
   "metadata": {},
   "outputs": [
    {
     "name": "stdout",
     "output_type": "stream",
     "text": [
      "Lucy is 31 years old\n",
      "Daniel is 55 years old\n",
      "Albert is 29 years old\n",
      "Romina is 17 years old\n"
     ]
    }
   ],
   "source": [
    "for user, age in ages.items():\n",
    "    print(f'{user} is {age} years old')"
   ]
  },
  {
   "cell_type": "markdown",
   "metadata": {},
   "source": [
    "Finding value from key,"
   ]
  },
  {
   "cell_type": "code",
   "execution_count": 9,
   "metadata": {},
   "outputs": [
    {
     "data": {
      "text/plain": [
       "29"
      ]
     },
     "execution_count": 9,
     "metadata": {},
     "output_type": "execute_result"
    }
   ],
   "source": [
    "ages['Albert'] # Albert is the key value"
   ]
  },
  {
   "cell_type": "markdown",
   "metadata": {},
   "source": [
    "Trying to acces with value (error),"
   ]
  },
  {
   "cell_type": "code",
   "execution_count": 10,
   "metadata": {},
   "outputs": [
    {
     "ename": "KeyError",
     "evalue": "29",
     "output_type": "error",
     "traceback": [
      "\u001b[0;31m---------------------------------------------------------------------------\u001b[0m",
      "\u001b[0;31mKeyError\u001b[0m                                  Traceback (most recent call last)",
      "Cell \u001b[0;32mIn[10], line 1\u001b[0m\n\u001b[0;32m----> 1\u001b[0m \u001b[43mages\u001b[49m\u001b[43m[\u001b[49m\u001b[38;5;241;43m29\u001b[39;49m\u001b[43m]\u001b[49m\n",
      "\u001b[0;31mKeyError\u001b[0m: 29"
     ]
    }
   ],
   "source": [
    "ages[29]"
   ]
  },
  {
   "cell_type": "markdown",
   "metadata": {},
   "source": [
    "How to change the value of single pair,"
   ]
  },
  {
   "cell_type": "code",
   "execution_count": 12,
   "metadata": {},
   "outputs": [
    {
     "data": {
      "text/plain": [
       "{'Lucy': 19, 'Daniel': 55, 'Albert': 29, 'Romina': 17}"
      ]
     },
     "execution_count": 12,
     "metadata": {},
     "output_type": "execute_result"
    }
   ],
   "source": [
    "ages['Lucy']=19\n",
    "ages"
   ]
  },
  {
   "cell_type": "markdown",
   "metadata": {},
   "source": [
    "Deleting a element from dictionary,"
   ]
  },
  {
   "cell_type": "code",
   "execution_count": 13,
   "metadata": {},
   "outputs": [
    {
     "data": {
      "text/plain": [
       "{'Lucy': 19, 'Albert': 29, 'Romina': 17}"
      ]
     },
     "execution_count": 13,
     "metadata": {},
     "output_type": "execute_result"
    }
   ],
   "source": [
    "del ages['Daniel']\n",
    "ages"
   ]
  },
  {
   "cell_type": "markdown",
   "metadata": {},
   "source": [
    "Setting error in case of pair not found,"
   ]
  },
  {
   "cell_type": "code",
   "execution_count": 17,
   "metadata": {},
   "outputs": [
    {
     "data": {
      "text/plain": [
       "'Not in dictionary'"
      ]
     },
     "execution_count": 17,
     "metadata": {},
     "output_type": "execute_result"
    }
   ],
   "source": [
    "ages.get('Peter', 'Not in dictionary')"
   ]
  },
  {
   "cell_type": "markdown",
   "metadata": {},
   "source": [
    "What if an element is found,"
   ]
  },
  {
   "cell_type": "code",
   "execution_count": 18,
   "metadata": {},
   "outputs": [
    {
     "data": {
      "text/plain": [
       "19"
      ]
     },
     "execution_count": 18,
     "metadata": {},
     "output_type": "execute_result"
    }
   ],
   "source": [
    "ages.get('Lucy', 'Not in dictionary')"
   ]
  },
  {
   "cell_type": "markdown",
   "metadata": {},
   "source": [
    "Is 'key value' in dictionary,"
   ]
  },
  {
   "cell_type": "code",
   "execution_count": 19,
   "metadata": {},
   "outputs": [
    {
     "data": {
      "text/plain": [
       "False"
      ]
     },
     "execution_count": 19,
     "metadata": {},
     "output_type": "execute_result"
    }
   ],
   "source": [
    "'Alex' in ages"
   ]
  },
  {
   "cell_type": "code",
   "execution_count": 20,
   "metadata": {},
   "outputs": [
    {
     "data": {
      "text/plain": [
       "True"
      ]
     },
     "execution_count": 20,
     "metadata": {},
     "output_type": "execute_result"
    }
   ],
   "source": [
    "'Romina' in ages"
   ]
  },
  {
   "cell_type": "markdown",
   "metadata": {},
   "source": [
    "Adding new elements to dictionary,"
   ]
  },
  {
   "cell_type": "code",
   "execution_count": 30,
   "metadata": {},
   "outputs": [
    {
     "data": {
      "text/plain": [
       "{'Lucy': 19, 'Albert': 29, 'Romina': 17, 'Eva': 41}"
      ]
     },
     "execution_count": 30,
     "metadata": {},
     "output_type": "execute_result"
    }
   ],
   "source": [
    "ages['Eva']=41  # if there is a new key, is a new element\n",
    "ages"
   ]
  },
  {
   "cell_type": "markdown",
   "metadata": {},
   "source": [
    "keys(), items(), values() methods in dictonaries,"
   ]
  },
  {
   "cell_type": "code",
   "execution_count": 23,
   "metadata": {},
   "outputs": [
    {
     "name": "stdout",
     "output_type": "stream",
     "text": [
      "19, 29, 17, "
     ]
    }
   ],
   "source": [
    "for age in ages.values():\n",
    "    print(age, end=', ')  # printing value of pairs"
   ]
  },
  {
   "cell_type": "code",
   "execution_count": 25,
   "metadata": {},
   "outputs": [
    {
     "name": "stdout",
     "output_type": "stream",
     "text": [
      "Lucy, Albert, Romina, "
     ]
    }
   ],
   "source": [
    "for name in ages.keys():\n",
    "    print(name, end=', ')  # printing key of pairs"
   ]
  },
  {
   "cell_type": "code",
   "execution_count": 35,
   "metadata": {},
   "outputs": [
    {
     "data": {
      "text/plain": [
       "[('Lucy', 19), ('Albert', 29), ('Romina', 17), ('Eva', 41)]"
      ]
     },
     "execution_count": 35,
     "metadata": {},
     "output_type": "execute_result"
    }
   ],
   "source": [
    "list(ages.items()) # list elements of ages"
   ]
  },
  {
   "cell_type": "markdown",
   "metadata": {},
   "source": [
    "Sorting keys values,"
   ]
  },
  {
   "cell_type": "code",
   "execution_count": 50,
   "metadata": {},
   "outputs": [
    {
     "name": "stdout",
     "output_type": "stream",
     "text": [
      "Albert, Eva, Lucy, Romina, "
     ]
    }
   ],
   "source": [
    "for name in sorted(ages.keys()):\n",
    "    print(name, end=', ')"
   ]
  },
  {
   "cell_type": "markdown",
   "metadata": {},
   "source": [
    "Creating a dictonary with word:count pairs of values from a string variable,"
   ]
  },
  {
   "cell_type": "code",
   "execution_count": 6,
   "metadata": {},
   "outputs": [],
   "source": [
    "text = ('whenever possible avoid mixing the context of one habit ' 'one habit is better than none' 'the contex of habit is ' 'avoid junk food too if possible is a good habit')"
   ]
  },
  {
   "cell_type": "code",
   "execution_count": 3,
   "metadata": {},
   "outputs": [
    {
     "data": {
      "text/plain": [
       "{'whenever': 1,\n",
       " 'possible': 2,\n",
       " 'avoid': 2,\n",
       " 'mixing': 1,\n",
       " 'the': 1,\n",
       " 'context': 1,\n",
       " 'of': 2,\n",
       " 'one': 2,\n",
       " 'habit': 4,\n",
       " 'is': 3,\n",
       " 'better': 1,\n",
       " 'than': 1,\n",
       " 'nonethe': 1,\n",
       " 'contex': 1,\n",
       " 'junk': 1,\n",
       " 'food': 1,\n",
       " 'too': 1,\n",
       " 'if': 1,\n",
       " 'a': 1,\n",
       " 'good': 1}"
      ]
     },
     "execution_count": 3,
     "metadata": {},
     "output_type": "execute_result"
    }
   ],
   "source": [
    "countword ={}\n",
    "for word in text.split():\n",
    "    if word in countword:\n",
    "        countword[word]+=1\n",
    "    else:\n",
    "        countword[word]=1\n",
    "\n",
    "countword"
   ]
  },
  {
   "cell_type": "markdown",
   "metadata": {},
   "source": [
    "Using print and sorted to show items,"
   ]
  },
  {
   "cell_type": "code",
   "execution_count": 4,
   "metadata": {},
   "outputs": [
    {
     "name": "stdout",
     "output_type": "stream",
     "text": [
      "Word         Count\n",
      "a           1\n",
      "avoid       2\n",
      "better      1\n",
      "contex      1\n",
      "context     1\n",
      "food        1\n",
      "good        1\n",
      "habit       4\n",
      "if          1\n",
      "is          3\n",
      "junk        1\n",
      "mixing      1\n",
      "nonethe     1\n",
      "of          2\n",
      "one         2\n",
      "possible    2\n",
      "than        1\n",
      "the         1\n",
      "too         1\n",
      "whenever    1\n",
      "Total of unique words:  20\n"
     ]
    }
   ],
   "source": [
    "print(f'{\"Word\":<12} Count')\n",
    "for word, times in sorted(countword.items()):\n",
    "    print(f'{word :<12}{times}')\n",
    "    \n",
    "print('Total of unique words: ', len(countword))"
   ]
  },
  {
   "cell_type": "markdown",
   "metadata": {},
   "source": [
    "There is a function that generates a dictionary from string with a single sentence: Counter,"
   ]
  },
  {
   "cell_type": "code",
   "execution_count": 7,
   "metadata": {},
   "outputs": [],
   "source": [
    "from collections import Counter"
   ]
  },
  {
   "cell_type": "code",
   "execution_count": 8,
   "metadata": {},
   "outputs": [
    {
     "data": {
      "text/plain": [
       "Counter({'habit': 4,\n",
       "         'is': 3,\n",
       "         'possible': 2,\n",
       "         'avoid': 2,\n",
       "         'of': 2,\n",
       "         'one': 2,\n",
       "         'whenever': 1,\n",
       "         'mixing': 1,\n",
       "         'the': 1,\n",
       "         'context': 1,\n",
       "         'better': 1,\n",
       "         'than': 1,\n",
       "         'nonethe': 1,\n",
       "         'contex': 1,\n",
       "         'junk': 1,\n",
       "         'food': 1,\n",
       "         'too': 1,\n",
       "         'if': 1,\n",
       "         'a': 1,\n",
       "         'good': 1})"
      ]
     },
     "execution_count": 8,
     "metadata": {},
     "output_type": "execute_result"
    }
   ],
   "source": [
    "countword ={}\n",
    "countword = Counter(text.split())\n",
    "countword"
   ]
  },
  {
   "cell_type": "markdown",
   "metadata": {},
   "source": [
    "## Dictionary Comprehension\n",
    "As same way lists, there is compact notation to generate dictionaries. Here's sample of transposing value key with dictionary comprehension,"
   ]
  },
  {
   "cell_type": "code",
   "execution_count": 9,
   "metadata": {},
   "outputs": [
    {
     "data": {
      "text/plain": [
       "{'Lucy': 31, 'Daniel': 55, 'Albert': 29, 'Romina': 17}"
      ]
     },
     "execution_count": 9,
     "metadata": {},
     "output_type": "execute_result"
    }
   ],
   "source": [
    "ages = {'Lucy':31,'Daniel':55,'Albert':29,'Romina':17} \n",
    "ages"
   ]
  },
  {
   "cell_type": "code",
   "execution_count": 11,
   "metadata": {},
   "outputs": [
    {
     "data": {
      "text/plain": [
       "{31: 'Lucy', 55: 'Daniel', 29: 'Albert', 17: 'Romina'}"
      ]
     },
     "execution_count": 11,
     "metadata": {},
     "output_type": "execute_result"
    }
   ],
   "source": [
    "ages_name = {age: name for name, age in ages.items()}\n",
    "ages_name"
   ]
  },
  {
   "cell_type": "markdown",
   "metadata": {},
   "source": [
    "Dictionary comprenhension to calculate the average of sells (list of imports),"
   ]
  },
  {
   "cell_type": "code",
   "execution_count": 12,
   "metadata": {},
   "outputs": [
    {
     "data": {
      "text/plain": [
       "{'Lucy': [250, 857, 125],\n",
       " 'Daniel': [805, 755, 238],\n",
       " 'Albert': [100, 562, 28],\n",
       " 'Romina': [355, 878, 751]}"
      ]
     },
     "execution_count": 12,
     "metadata": {},
     "output_type": "execute_result"
    }
   ],
   "source": [
    "sells = {'Lucy':[250, 857, 125],'Daniel':[805, 755, 238],'Albert':[100, 562, 28],'Romina':[355, 878, 751]}\n",
    "sells"
   ]
  },
  {
   "cell_type": "code",
   "execution_count": 13,
   "metadata": {},
   "outputs": [
    {
     "data": {
      "text/plain": [
       "{'Lucy': 410.6666666666667,\n",
       " 'Daniel': 599.3333333333334,\n",
       " 'Albert': 230.0,\n",
       " 'Romina': 661.3333333333334}"
      ]
     },
     "execution_count": 13,
     "metadata": {},
     "output_type": "execute_result"
    }
   ],
   "source": [
    "avgsells = {seller:sum(sell)/len(sell) for seller, sell in sells.items()}\n",
    "avgsells"
   ]
  },
  {
   "cell_type": "markdown",
   "metadata": {},
   "source": [
    "## Sets\n",
    "Sets are an unordered collection of unique elements (single elements not key:value), meanwhile dictionaries have a key:value pairs. Set of animals,"
   ]
  },
  {
   "cell_type": "code",
   "execution_count": 14,
   "metadata": {},
   "outputs": [
    {
     "data": {
      "text/plain": [
       "{'Dog', 'Eagle', 'Elephant', 'Lion', 'Octopus', 'Parrot'}"
      ]
     },
     "execution_count": 14,
     "metadata": {},
     "output_type": "execute_result"
    }
   ],
   "source": [
    "animals = {'Elephant','Dog','Parrot','Eagle','Octopus','Lion'}\n",
    "animals"
   ]
  },
  {
   "cell_type": "code",
   "execution_count": 15,
   "metadata": {},
   "outputs": [
    {
     "data": {
      "text/plain": [
       "6"
      ]
     },
     "execution_count": 15,
     "metadata": {},
     "output_type": "execute_result"
    }
   ],
   "source": [
    "len(animals)"
   ]
  },
  {
   "cell_type": "code",
   "execution_count": 17,
   "metadata": {},
   "outputs": [
    {
     "data": {
      "text/plain": [
       "False"
      ]
     },
     "execution_count": 17,
     "metadata": {},
     "output_type": "execute_result"
    }
   ],
   "source": [
    "'Cat' in animals"
   ]
  },
  {
   "cell_type": "code",
   "execution_count": 18,
   "metadata": {},
   "outputs": [
    {
     "data": {
      "text/plain": [
       "True"
      ]
     },
     "execution_count": 18,
     "metadata": {},
     "output_type": "execute_result"
    }
   ],
   "source": [
    "'Dog' in animals"
   ]
  },
  {
   "cell_type": "markdown",
   "metadata": {},
   "source": [
    "Set values to uppercase,"
   ]
  },
  {
   "cell_type": "code",
   "execution_count": 19,
   "metadata": {},
   "outputs": [
    {
     "name": "stdout",
     "output_type": "stream",
     "text": [
      "ELEPHANT, LION, OCTOPUS, EAGLE, DOG, PARROT, "
     ]
    }
   ],
   "source": [
    "for animals in animals:\n",
    "    print(animals.upper(), end=', ')"
   ]
  },
  {
   "cell_type": "markdown",
   "metadata": {},
   "source": [
    "Two list to a set, first list contains even numbers from 0 to 14 and the second list conains even numbers from 8 to 29,"
   ]
  },
  {
   "cell_type": "code",
   "execution_count": 21,
   "metadata": {},
   "outputs": [
    {
     "data": {
      "text/plain": [
       "[0, 2, 4, 6, 8, 10, 12, 14, 8, 10, 12, 14, 16, 18, 20, 22, 24, 26, 28]"
      ]
     },
     "execution_count": 21,
     "metadata": {},
     "output_type": "execute_result"
    }
   ],
   "source": [
    "evennum = list(range(0,15,2)) + list(range(8,30,2))\n",
    "evennum"
   ]
  },
  {
   "cell_type": "markdown",
   "metadata": {},
   "source": [
    "To a set"
   ]
  },
  {
   "cell_type": "code",
   "execution_count": 23,
   "metadata": {},
   "outputs": [
    {
     "data": {
      "text/plain": [
       "{0, 2, 4, 6, 8, 10, 12, 14, 16, 18, 20, 22, 24, 26, 28}"
      ]
     },
     "execution_count": 23,
     "metadata": {},
     "output_type": "execute_result"
    }
   ],
   "source": [
    "set(evennum)"
   ]
  },
  {
   "cell_type": "markdown",
   "metadata": {},
   "source": [
    "Set of unique values of text,"
   ]
  },
  {
   "cell_type": "code",
   "execution_count": 24,
   "metadata": {},
   "outputs": [
    {
     "data": {
      "text/plain": [
       "{'a',\n",
       " 'avoid',\n",
       " 'better',\n",
       " 'contex',\n",
       " 'context',\n",
       " 'food',\n",
       " 'good',\n",
       " 'habit',\n",
       " 'if',\n",
       " 'is',\n",
       " 'junk',\n",
       " 'mixing',\n",
       " 'nonethe',\n",
       " 'of',\n",
       " 'one',\n",
       " 'possible',\n",
       " 'than',\n",
       " 'the',\n",
       " 'too',\n",
       " 'whenever'}"
      ]
     },
     "execution_count": 24,
     "metadata": {},
     "output_type": "execute_result"
    }
   ],
   "source": [
    "set(text.split())"
   ]
  }
 ],
 "metadata": {
  "kernelspec": {
   "display_name": "Python 3",
   "language": "python",
   "name": "python3"
  },
  "language_info": {
   "codemirror_mode": {
    "name": "ipython",
    "version": 3
   },
   "file_extension": ".py",
   "mimetype": "text/x-python",
   "name": "python",
   "nbconvert_exporter": "python",
   "pygments_lexer": "ipython3",
   "version": "3.12.5"
  }
 },
 "nbformat": 4,
 "nbformat_minor": 2
}
