{
 "cells": [
  {
   "cell_type": "markdown",
   "metadata": {},
   "source": [
    "# Control sentences\n",
    "## If sentence "
   ]
  },
  {
   "cell_type": "code",
   "execution_count": 1,
   "metadata": {},
   "outputs": [
    {
     "name": "stdout",
     "output_type": "stream",
     "text": [
      "If you are in winter, it's night time\n"
     ]
    }
   ],
   "source": [
    "hour = 20 #declare a hour variable\n",
    "\n",
    "if hour > 18:\n",
    "    print(\"If you are in winter, it's night time\")"
   ]
  },
  {
   "cell_type": "markdown",
   "metadata": {},
   "source": [
    "If, else sentences"
   ]
  },
  {
   "cell_type": "code",
   "execution_count": 6,
   "metadata": {},
   "outputs": [
    {
     "name": "stdout",
     "output_type": "stream",
     "text": [
      "Good afternoon\n"
     ]
    }
   ],
   "source": [
    "hour = 13\n",
    "\n",
    "if hour < 12:\n",
    "    print('Good morning')\n",
    "else:\n",
    "    print('Good afternoon')"
   ]
  },
  {
   "cell_type": "markdown",
   "metadata": {},
   "source": [
    "else if (elif) sentence"
   ]
  },
  {
   "cell_type": "code",
   "execution_count": 17,
   "metadata": {},
   "outputs": [
    {
     "name": "stdout",
     "output_type": "stream",
     "text": [
      "Good evening\n"
     ]
    }
   ],
   "source": [
    "hour = 20\n",
    "\n",
    "if hour < 12:\n",
    "    print('Good morning')\n",
    "elif hour > 12 and hour < 18:\n",
    "    print('Good afternoon')\n",
    "elif hour > 18 and hour <= 23:\n",
    "    print('Good evening')\n",
    "else:\n",
    "    print('Hi')"
   ]
  },
  {
   "cell_type": "markdown",
   "metadata": {},
   "source": [
    "While sentence"
   ]
  },
  {
   "cell_type": "code",
   "execution_count": 48,
   "metadata": {},
   "outputs": [
    {
     "name": "stdout",
     "output_type": "stream",
     "text": [
      "50 cicles are needed to get  100\n"
     ]
    }
   ],
   "source": [
    "sum = 0\n",
    "count = 0\n",
    "\n",
    "while sum < 100:\n",
    "    sum = sum + 2\n",
    "    count = count + 1\n",
    "    \n",
    "\n",
    "print(count, 'cicles are needed to get ',sum)"
   ]
  },
  {
   "cell_type": "markdown",
   "metadata": {},
   "source": [
    "For sentence"
   ]
  },
  {
   "cell_type": "code",
   "execution_count": 21,
   "metadata": {},
   "outputs": [
    {
     "name": "stdout",
     "output_type": "stream",
     "text": [
      "C,o,u,n,t,r,y,"
     ]
    }
   ],
   "source": [
    "# Speling a word\n",
    "for index in 'Country':\n",
    "    print(index, end= ',')"
   ]
  },
  {
   "cell_type": "code",
   "execution_count": 34,
   "metadata": {},
   "outputs": [
    {
     "data": {
      "text/plain": [
       "120"
      ]
     },
     "execution_count": 34,
     "metadata": {},
     "output_type": "execute_result"
    }
   ],
   "source": [
    "# Calculating the factorial\n",
    "num = 5\n",
    "factorial = 1\n",
    "for i in range(1, num+1):  # num+1 = 6, range (i) goes from 1 to 5\n",
    "    factorial *= i # *= replaces factorial = factorial * 1 \n",
    "\n",
    "factorial"
   ]
  },
  {
   "cell_type": "code",
   "execution_count": 39,
   "metadata": {},
   "outputs": [
    {
     "name": "stdout",
     "output_type": "stream",
     "text": [
      "0, 1, 2, 3, 4, "
     ]
    }
   ],
   "source": [
    "for i in range(5): # range start with 0 ends on 4\n",
    "    print(i, end = ', ')"
   ]
  },
  {
   "cell_type": "markdown",
   "metadata": {},
   "source": [
    "Break sentence for while and for"
   ]
  },
  {
   "cell_type": "code",
   "execution_count": 44,
   "metadata": {},
   "outputs": [
    {
     "name": "stdout",
     "output_type": "stream",
     "text": [
      "It's index 8 bye bye\n"
     ]
    }
   ],
   "source": [
    "for i in range(11):\n",
    "    if i == 8:\n",
    "        print(\"It's index 8 bye bye\")\n",
    "        break  # Stop and ends cicle (for, while)"
   ]
  },
  {
   "cell_type": "markdown",
   "metadata": {},
   "source": [
    "Getting average of list of numbers"
   ]
  },
  {
   "cell_type": "code",
   "execution_count": 51,
   "metadata": {},
   "outputs": [
    {
     "name": "stdout",
     "output_type": "stream",
     "text": [
      "Total  1118.0 Average:  139.75\n"
     ]
    }
   ],
   "source": [
    "sum = 0\n",
    "count = 0\n",
    "for value in [140,55,99,265,103,79.5,284.5,92]:\n",
    "    sum += value\n",
    "    count += 1\n",
    "avg = sum / count\n",
    "\n",
    "print('Total ', sum, 'Average: ', avg)"
   ]
  }
 ],
 "metadata": {
  "kernelspec": {
   "display_name": "Python 3",
   "language": "python",
   "name": "python3"
  },
  "language_info": {
   "codemirror_mode": {
    "name": "ipython",
    "version": 3
   },
   "file_extension": ".py",
   "mimetype": "text/x-python",
   "name": "python",
   "nbconvert_exporter": "python",
   "pygments_lexer": "ipython3",
   "version": "3.12.5"
  }
 },
 "nbformat": 4,
 "nbformat_minor": 2
}
