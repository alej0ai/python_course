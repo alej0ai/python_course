{
 "cells": [
  {
   "cell_type": "markdown",
   "metadata": {},
   "source": [
    "# Excel and CSV to Pandas and NumPy\n",
    "This laboratory aime to create dataframes with pandas from kaggle dataset [Ding Tai Fung x Online Ordering Platform Orders](https://www.kaggle.com/datasets/aizakpan/ding-tai-fung-x-online-ordering-platform-orders?select=detail.csv).  \n",
    "\n",
    "The dataset has 3 cvs files, but I transformed the detail.cvs file to xlsx MS Excel format in order to show how to work with Excels files.\n",
    "\n",
    "From detail.xlsx file it will be create a dataframe and add it more columns from menu.cvs and order.csv files, linked by order_id and item_id.\n",
    "\n",
    "NumPy will allow to create new columns using conditional (where clause) and new dataframes using aggregate functions (sum)."
   ]
  }
 ],
 "metadata": {
  "language_info": {
   "name": "python"
  }
 },
 "nbformat": 4,
 "nbformat_minor": 2
}
